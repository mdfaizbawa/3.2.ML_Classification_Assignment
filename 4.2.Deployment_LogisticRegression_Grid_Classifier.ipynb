{
 "cells": [
  {
   "cell_type": "code",
   "execution_count": 1,
   "id": "489a680d-fbad-429f-a62d-c8f2fdf9f885",
   "metadata": {},
   "outputs": [],
   "source": [
    "import pandas as pd\n",
    "dataset=pd.read_csv(\"CKD.csv\")\n",
    "dataset=pd.get_dummies(dataset,dtype=int,drop_first=True)\n",
    "independent=dataset[['age', 'bp', 'al', 'su', 'bgr', 'bu', 'sc', 'sod', 'pot', 'hrmo', 'pcv','wc', 'rc', 'sg_b', 'sg_c', 'sg_d', 'sg_e','rbc_normal', 'pc_normal', 'pcc_present', 'ba_present', 'htn_yes','dm_yes', 'cad_yes', 'appet_yes', 'pe_yes', 'ane_yes']]\n",
    "dependent=dataset[['classification_yes']]"
   ]
  },
  {
   "cell_type": "code",
   "execution_count": 2,
   "id": "3fe9380c-09ed-4da6-99b6-83b21e297fc7",
   "metadata": {},
   "outputs": [],
   "source": [
    "from sklearn.model_selection import train_test_split\n",
    "X_train,X_test,Y_train,Y_test=train_test_split(independent, dependent, test_size=1/3,random_state=0)\n",
    "from sklearn.preprocessing import StandardScaler\n",
    "sd=StandardScaler()\n",
    "X_train=sd.fit_transform(X_train)\n",
    "X_test=sd.transform(X_test)"
   ]
  },
  {
   "cell_type": "code",
   "execution_count": 3,
   "id": "8f511470-0a6a-4f9f-a801-a98e9c885cc2",
   "metadata": {},
   "outputs": [
    {
     "name": "stdin",
     "output_type": "stream",
     "text": [
      "Age: 6\n",
      "bp: 56\n",
      "al: 2.0\n",
      "su: 0.0\n",
      "bgr: 217.000\n",
      "bu: 37.0\n",
      "sc: 0.79\n",
      "sod: 138.5496\n",
      "pot: 4.5654\n",
      "hrmo: 9\n",
      "pcv: 47\n",
      "wc: 6200\n",
      "rc: 5.1\n",
      "sg_b Yes 0 or 1: 1\n",
      "sg_c Yes 0 or 1: 0\n",
      "sg_d Yes 0 or 1: 1\n",
      "sg_e Yes 0 or 1: 0\n",
      "rbc_normal Yes 0 or 1: 1\n",
      "pc_normal Yes 0 or 1: 0\n",
      "pcc_present Yes 0 or 1: 0\n",
      "ba_present Yes 0 or 1: 1\n",
      "htn_yes Yes 0 or 1: 0\n",
      "dm_yes Yes 0 or 1: 0\n",
      "cad_yes Yes 0 or 1: 1\n",
      "appet_yes Yes 0 or 1: 1\n",
      "pe_yes Yes 0 or 1: 1\n",
      "ane_yes Yes 0 or 1: 1\n"
     ]
    }
   ],
   "source": [
    "age=float(input(\"Age:\"))\n",
    "bp=float(input(\"bp:\"))\n",
    "al=float(input(\"al:\"))\n",
    "su=float(input(\"su:\"))\n",
    "bgr=float(input(\"bgr:\"))\n",
    "bu=float(input(\"bu:\"))\n",
    "sc=float(input(\"sc:\"))\n",
    "sod=float(input(\"sod:\"))\n",
    "pot=float(input(\"pot:\"))\n",
    "hrmo=float(input(\"hrmo:\"))\n",
    "pcv=float(input(\"pcv:\"))\n",
    "wc=float(input(\"wc:\"))\n",
    "rc=float(input(\"rc:\"))\n",
    "sg_b=int(input(\"sg_b Yes 0 or 1:\"))\n",
    "sg_c=int(input(\"sg_c Yes 0 or 1:\"))\n",
    "sg_d=int(input(\"sg_d Yes 0 or 1:\"))\n",
    "sg_e=int(input(\"sg_e Yes 0 or 1:\"))\n",
    "rbc_normal=int(input(\"rbc_normal Yes 0 or 1:\"))\n",
    "pc_normal=int(input(\"pc_normal Yes 0 or 1:\"))\n",
    "pcc_present=int(input(\"pcc_present Yes 0 or 1:\"))\n",
    "ba_present=int(input(\"ba_present Yes 0 or 1:\"))\n",
    "htn_yes=int(input(\"htn_yes Yes 0 or 1:\"))\n",
    "dm_yes=int(input(\"dm_yes Yes 0 or 1:\"))\n",
    "cad_yes=int(input(\"cad_yes Yes 0 or 1:\"))\n",
    "appet_yes=int(input(\"appet_yes Yes 0 or 1:\"))\n",
    "pe_yes=int(input(\"pe_yes Yes 0 or 1:\"))\n",
    "ane_yes=int(input(\"ane_yes Yes 0 or 1:\"))"
   ]
  },
  {
   "cell_type": "code",
   "execution_count": 4,
   "id": "72a1342a-4b1f-43b9-a754-ef3238d6bfca",
   "metadata": {},
   "outputs": [
    {
     "name": "stderr",
     "output_type": "stream",
     "text": [
      "C:\\Anaconda\\Lib\\site-packages\\sklearn\\base.py:493: UserWarning: X does not have valid feature names, but StandardScaler was fitted with feature names\n",
      "  warnings.warn(\n"
     ]
    },
    {
     "data": {
      "text/plain": [
       "array([[-2.82087171, -1.58533087,  0.94028379, -0.36409637,  0.88338037,\n",
       "        -0.43858884, -0.40635164,  0.09276038, -0.00468708, -1.28470094,\n",
       "         0.98477063, -0.88185473,  0.5203957 ,  2.02864108, -0.5454915 ,\n",
       "         2.21610269, -0.13840913,  0.38924947, -1.95866374, -0.34299717,\n",
       "         4.24264069, -0.73926425, -0.73926425,  3.41565026,  0.51639778,\n",
       "         1.91485422,  2.24620893]])"
      ]
     },
     "execution_count": 4,
     "metadata": {},
     "output_type": "execute_result"
    }
   ],
   "source": [
    "preinput=sd.transform([[age,bp,al,su,bgr,bu,sc,sod,pot,hrmo,pcv,wc,rc,sg_b,sg_c,sg_d,sg_e,rbc_normal,pc_normal,pcc_present,ba_present,htn_yes,dm_yes,cad_yes,appet_yes,pe_yes,ane_yes]])\n",
    "preinput"
   ]
  },
  {
   "cell_type": "code",
   "execution_count": 6,
   "id": "60b59650-00ef-4735-8469-829a3b17f632",
   "metadata": {},
   "outputs": [
    {
     "data": {
      "text/plain": [
       "array([1])"
      ]
     },
     "execution_count": 6,
     "metadata": {},
     "output_type": "execute_result"
    }
   ],
   "source": [
    "import pickle\n",
    "loaded_model=pickle.load(open(\"finalized_model_LogisticRegressoin_classifier.sav\",'rb'))\n",
    "result=loaded_model.predict(preinput)\n",
    "result"
   ]
  },
  {
   "cell_type": "code",
   "execution_count": null,
   "id": "f66f7d77-1c93-420d-98e6-04f82d133baa",
   "metadata": {},
   "outputs": [],
   "source": []
  }
 ],
 "metadata": {
  "kernelspec": {
   "display_name": "Python 3 (ipykernel)",
   "language": "python",
   "name": "python3"
  },
  "language_info": {
   "codemirror_mode": {
    "name": "ipython",
    "version": 3
   },
   "file_extension": ".py",
   "mimetype": "text/x-python",
   "name": "python",
   "nbconvert_exporter": "python",
   "pygments_lexer": "ipython3",
   "version": "3.12.4"
  }
 },
 "nbformat": 4,
 "nbformat_minor": 5
}
